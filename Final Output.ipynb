{
 "cells": [
  {
   "cell_type": "markdown",
   "id": "ac99a004",
   "metadata": {},
   "source": [
    "### Import Library"
   ]
  },
  {
   "cell_type": "code",
   "execution_count": 1,
   "id": "2b8699ca",
   "metadata": {},
   "outputs": [],
   "source": [
    "from sklearn.pipeline import Pipeline\n",
    "from sklearn.preprocessing import MinMaxScaler,StandardScaler\n",
    "import warnings\n",
    "warnings.filterwarnings('ignore')\n",
    "\n",
    "import pandas as pd\n",
    "import numpy as np\n",
    "\n",
    "from sklearn.model_selection import train_test_split,StratifiedKFold,cross_val_score,cross_validate\n",
    "from sklearn.metrics import classification_report,make_scorer,confusion_matrix\n",
    "\n",
    "from sklearn.linear_model import LogisticRegression\n",
    "from sklearn.neighbors import NearestNeighbors\n",
    "from sklearn.svm import SVC\n",
    "from sklearn.ensemble import ExtraTreesClassifier\n",
    "from sklearn.ensemble import AdaBoostClassifier,RandomForestClassifier\n",
    "from lightgbm import LGBMClassifier\n",
    "\n",
    "import seaborn as sns\n",
    "import matplotlib.pyplot as plt"
   ]
  },
  {
   "cell_type": "markdown",
   "id": "a923afc8",
   "metadata": {},
   "source": [
    "### Import Data"
   ]
  },
  {
   "cell_type": "code",
   "execution_count": 2,
   "id": "dbdaf2da",
   "metadata": {},
   "outputs": [],
   "source": [
    "random_state = 23873\n",
    "\n",
    "dt = pd.read_excel(r'CA_BC.xlsx').T\n",
    "dt.columns = dt.iloc[0]\n",
    "dt = dt.iloc[1:]\n",
    "dt['Label'] = dt.Label.map({'E':1,'A':0})\n",
    "\n",
    "dt.drop_duplicates(keep='first',inplace=True)\n",
    "for x in dt.select_dtypes(include=['object']).columns:\n",
    "    dt[x] = dt[x].astype('float64')\n",
    "dt.columns = [str(x) for x in dt.columns]\n",
    "dt = dt.select_dtypes(include=['float64','int64'])\n",
    "\n",
    "\n",
    "## Handle Duplicate Columns\n",
    "\n",
    "# Columns to not rename\n",
    "excluded = dt.columns[~dt.columns.duplicated(keep=False)]\n",
    "\n",
    "# An incrementer\n",
    "import itertools\n",
    "inc = itertools.count().__next__\n",
    "\n",
    "# A renamer\n",
    "def ren(name):\n",
    "    return f\"{name}{inc()}\" if name not in excluded else name\n",
    "\n",
    "# Use inside rename()\n",
    "for x in range(0,2):\n",
    "    dt.rename(columns=ren,inplace=True)"
   ]
  },
  {
   "cell_type": "code",
   "execution_count": 3,
   "id": "3bfe2706",
   "metadata": {},
   "outputs": [],
   "source": [
    "f1_cols = {\n",
    "    'LogisticRegression':['LOC101060339', 'LOC90784', 'MGC22265', 'PWP2', 'LOC100133331', 'TMLHE'],\n",
    "    'ExtraTree':['LOC90784', 'TUBB8', 'CCL3L3', 'GPR173', 'IKBKE', 'ENTHD2', 'PRIMPOL'],\n",
    "    'RandomForest':['LOC101060339','MGC22265','CHD1','FAM207A','C2ORF71','AMACR','CCDC154'],\n",
    "    'LGBM':['LOC101060339','LOC100133331','TTC30B','MGC14226','COL6A5','SCN7A','FLJ41941','AP5M1','GALNT1','TFRC','NAP1L4','PEG3-AS1','LOC115451','HOXA11-AS'],\n",
    "    'Adaboost': ['LOC101060339','CMT2B1','MAP7D1','LOC90784','MGC23947','OGFOD2','DKFZP434N231','MPI','LIMK1','DHX40P','MGC22265'],\n",
    "    'SVM':['LOC90784','PIF1','LOC101060247','KBF2','STON1-GTF2A1L','CYP4V2','KCNE3','STYXL1','KIAA1324L','DKFZp434E1822','RPS26P11','ZNF702P','LOC101060339']\n",
    "}"
   ]
  },
  {
   "cell_type": "code",
   "execution_count": 4,
   "id": "334a3847",
   "metadata": {},
   "outputs": [],
   "source": [
    "recall_cols = {\n",
    "    'LogisticRegression':['LOC90784','ENTHD2','CCL4L1','ACCPN','PWP2','PRKY','LINC00965','FOXQ1','RPS26P11','KATNBL1P6'],\n",
    "    'ExtraTree':['LOC90784', 'TUBB8', 'CCL3L3', 'GPR173', 'IKBKE'],\n",
    "    'RandomForest':['LOC101060339', 'MGC22265', 'CHD1', 'ZNF816', 'ZC3H12A', 'MINK1'],\n",
    "    'LGBM':['LOC101060339','LOC100133331','TTC30B','MGC14226','COL6A5','SCN7A','LOC96800','GSG2','PLSCR3'],\n",
    "    'Adaboost':['LOC101060339', 'LOC90784', 'PWP2', 'MGC22265', 'TYSND1'],\n",
    "    'SVM':['LOC90784','KBF2','DDX51','ADGRF2','LOC101060247','RPS26P11','CCL4L1','LOC101060339','DKFZp434E1822']\n",
    "}"
   ]
  },
  {
   "cell_type": "code",
   "execution_count": 5,
   "id": "62cd7ab3",
   "metadata": {},
   "outputs": [],
   "source": [
    "random_state = 23923\n",
    "pipes = {\n",
    "        'LogisticRegression':Pipeline([('scaler', StandardScaler()),('model', LogisticRegression())]),\n",
    "         'ExtraTree': Pipeline([('scaler', MinMaxScaler()),('model', ExtraTreesClassifier(n_estimators =10, random_state = random_state))]),\n",
    "         'RandomForest':Pipeline([('scaler', MinMaxScaler()),('model', RandomForestClassifier(n_estimators =10, random_state = random_state))]),\n",
    "         'LGBM':Pipeline([('scaler', MinMaxScaler()),('model', LGBMClassifier(random_state = random_state))]),\n",
    "         'Adaboost':Pipeline([('scaler', MinMaxScaler()),('model', AdaBoostClassifier(n_estimators =10, random_state = random_state))]),\n",
    "         'SVM':Pipeline([('scaler', MinMaxScaler()),('model', SVC(kernel='linear'))])\n",
    "}"
   ]
  },
  {
   "cell_type": "code",
   "execution_count": 6,
   "id": "c2f89aed",
   "metadata": {},
   "outputs": [],
   "source": [
    "def classifier(x_train, x_test, y_train, y_test,classifier,model):\n",
    "    # Training the classifier\n",
    "    model.fit(x_train, y_train.values.ravel())\n",
    "\n",
    "    print(f\"*************************{classifier}****************************\")\n",
    "\n",
    "    # Printing Accuracy on Training and Test sets\n",
    "    print(f\"Training Set Score : {model.score(x_train, y_train) * 100} %\")\n",
    "    print(f\"Test Set Score : {model.score(x_test, y_test) * 100} %\")\n",
    "\n",
    "    # Printing classification report of classifier on the test set set data\n",
    "    print(f\"Model Classification Report : \\n{classification_report(y_test, model.predict(x_test))}\")\n",
    "    return None"
   ]
  },
  {
   "cell_type": "code",
   "execution_count": 7,
   "id": "756d224d",
   "metadata": {},
   "outputs": [],
   "source": [
    "features = dt.copy()\n",
    "target = features.pop('Label')\n",
    "x_train, x_test, y_train, y_test = train_test_split(features, target,stratify=target, test_size=0.3,random_state=random_state) "
   ]
  },
  {
   "cell_type": "code",
   "execution_count": 8,
   "id": "73e9f264",
   "metadata": {},
   "outputs": [
    {
     "name": "stdout",
     "output_type": "stream",
     "text": [
      "*************************LogisticRegression****************************\n",
      "Training Set Score : 98.87640449438202 %\n",
      "Test Set Score : 94.87179487179486 %\n",
      "Model Classification Report : \n",
      "              precision    recall  f1-score   support\n",
      "\n",
      "           0       1.00      0.83      0.91        12\n",
      "           1       0.93      1.00      0.96        27\n",
      "\n",
      "    accuracy                           0.95        39\n",
      "   macro avg       0.97      0.92      0.94        39\n",
      "weighted avg       0.95      0.95      0.95        39\n",
      "\n",
      "*************************ExtraTree****************************\n",
      "Training Set Score : 100.0 %\n",
      "Test Set Score : 92.3076923076923 %\n",
      "Model Classification Report : \n",
      "              precision    recall  f1-score   support\n",
      "\n",
      "           0       0.91      0.83      0.87        12\n",
      "           1       0.93      0.96      0.95        27\n",
      "\n",
      "    accuracy                           0.92        39\n",
      "   macro avg       0.92      0.90      0.91        39\n",
      "weighted avg       0.92      0.92      0.92        39\n",
      "\n",
      "*************************RandomForest****************************\n",
      "Training Set Score : 100.0 %\n",
      "Test Set Score : 76.92307692307693 %\n",
      "Model Classification Report : \n",
      "              precision    recall  f1-score   support\n",
      "\n",
      "           0       0.64      0.58      0.61        12\n",
      "           1       0.82      0.85      0.84        27\n",
      "\n",
      "    accuracy                           0.77        39\n",
      "   macro avg       0.73      0.72      0.72        39\n",
      "weighted avg       0.76      0.77      0.77        39\n",
      "\n",
      "*************************LGBM****************************\n",
      "Training Set Score : 100.0 %\n",
      "Test Set Score : 87.17948717948718 %\n",
      "Model Classification Report : \n",
      "              precision    recall  f1-score   support\n",
      "\n",
      "           0       0.77      0.83      0.80        12\n",
      "           1       0.92      0.89      0.91        27\n",
      "\n",
      "    accuracy                           0.87        39\n",
      "   macro avg       0.85      0.86      0.85        39\n",
      "weighted avg       0.88      0.87      0.87        39\n",
      "\n",
      "*************************Adaboost****************************\n",
      "Training Set Score : 100.0 %\n",
      "Test Set Score : 87.17948717948718 %\n",
      "Model Classification Report : \n",
      "              precision    recall  f1-score   support\n",
      "\n",
      "           0       1.00      0.58      0.74        12\n",
      "           1       0.84      1.00      0.92        27\n",
      "\n",
      "    accuracy                           0.87        39\n",
      "   macro avg       0.92      0.79      0.83        39\n",
      "weighted avg       0.89      0.87      0.86        39\n",
      "\n",
      "*************************SVM****************************\n",
      "Training Set Score : 97.75280898876404 %\n",
      "Test Set Score : 97.43589743589743 %\n",
      "Model Classification Report : \n",
      "              precision    recall  f1-score   support\n",
      "\n",
      "           0       1.00      0.92      0.96        12\n",
      "           1       0.96      1.00      0.98        27\n",
      "\n",
      "    accuracy                           0.97        39\n",
      "   macro avg       0.98      0.96      0.97        39\n",
      "weighted avg       0.98      0.97      0.97        39\n",
      "\n"
     ]
    }
   ],
   "source": [
    "for x in list(pipes.keys()):\n",
    "    cols = recall_cols[x]\n",
    "    classifier(x_train[cols],x_test[cols], y_train, y_test,x,pipes[x])"
   ]
  },
  {
   "cell_type": "code",
   "execution_count": 14,
   "id": "3242ee26",
   "metadata": {},
   "outputs": [],
   "source": [
    "def modelling_mulitple(x_train, y_train,col_list):\n",
    "\n",
    "    cv = StratifiedKFold(n_splits=4, shuffle=True, random_state=random_state)\n",
    "    f1_mean,f1_std,recall_mean,recall_std = [],[],[],[]\n",
    "\n",
    "    classifiers = list(pipes.keys())\n",
    "\n",
    "    scoring = {'f1_macro': 'f1_macro',\n",
    "               'recall_macro': 'recall_macro'\n",
    "              }\n",
    "\n",
    "    for classifier in list(pipes.keys()):\n",
    "            scores = cross_validate(pipes[classifier], x_train[col_list[classifier]], y_train, scoring=scoring, cv=cv)\n",
    "            f1_mean.append(scores['test_f1_macro'].mean())\n",
    "            f1_std.append(scores['test_f1_macro'].std())\n",
    "            recall_mean.append(scores['test_recall_macro'].mean())\n",
    "            recall_std.append(scores['test_recall_macro'].std())\n",
    "\n",
    "    cv_res = pd.DataFrame(data={'Algorithms':classifiers, 'F1 Mean Score':f1_mean, 'F1 std':f1_std,\n",
    "                               'Recall Mean Score':recall_mean, 'Recall std':recall_std\n",
    "                               })\n",
    "\n",
    "    plt.rcParams[\"figure.figsize\"] = [8.00, 5.00]\n",
    "    plt.rcParams[\"figure.autolayout\"] = True\n",
    "#     f, axes = plt.subplots(1, 2)\n",
    "\n",
    "    sns.barplot(x = 'F1 Mean Score',y = 'Algorithms',data = cv_res, palette = \"Set2\").set(title='Cross Validation Scores')\n",
    "#     sns.barplot(x = 'Recall Mean Score',y = 'Algorithms',data = cv_res, palette = \"Set2\",ax=axes[1]).set(title='Cross Validation Scores')\n",
    "    plt.savefig('final.eps',bbox_inches = 'tight',dpi=1200,transparent= True, format='eps')\n",
    "\n",
    "\n",
    "    return cv_res"
   ]
  },
  {
   "cell_type": "code",
   "execution_count": 15,
   "id": "c44aa793",
   "metadata": {},
   "outputs": [
    {
     "data": {
      "image/png": "[encoded data removed]",
      "text/plain": [
       "<Figure size 800x500 with 1 Axes>"
      ]
     },
     "metadata": {},
     "output_type": "display_data"
    }
   ],
   "source": [
    "features = dt.copy()\n",
    "target = features.pop('Label')\n",
    "cv_res = modelling_mulitple(features,target,f1_cols)"
   ]
  },
  {
   "cell_type": "code",
   "execution_count": 18,
   "id": "5e5881e1",
   "metadata": {},
   "outputs": [
    {
     "name": "stdout",
     "output_type": "stream",
     "text": [
      "\\begin{tabular}{lrrrr}\n",
      "\\toprule\n",
      "        Algorithms &  F1 Mean Score &   F1 std &  Recall Mean Score &  Recall std \\\\\n",
      "\\midrule\n",
      "LogisticRegression &       0.981784 & 0.018230 &           0.976136 &    0.023918 \\\\\n",
      "         ExtraTree &       0.846896 & 0.069009 &           0.846050 &    0.067817 \\\\\n",
      "      RandomForest &       0.803731 & 0.142923 &           0.808820 &    0.143631 \\\\\n",
      "              LGBM &       0.866809 & 0.017384 &           0.874188 &    0.028551 \\\\\n",
      "          Adaboost &       0.875199 & 0.075161 &           0.862500 &    0.083960 \\\\\n",
      "               SVM &       0.954245 & 0.015594 &           0.946591 &    0.024346 \\\\\n",
      "\\bottomrule\n",
      "\\end{tabular}\n",
      "\n"
     ]
    }
   ],
   "source": [
    "print(cv_res.to_latex(index=False))"
   ]
  },
  {
   "cell_type": "code",
   "execution_count": 11,
   "id": "054b2343",
   "metadata": {},
   "outputs": [
    {
     "data": {
      "image/png": "[encoded data removed]",
      "text/plain": [
       "<Figure size 2000x600 with 2 Axes>"
      ]
     },
     "metadata": {},
     "output_type": "display_data"
    },
    {
     "data": {
      "text/html": [
       "<div>\n",
       "<style scoped>\n",
       "    .dataframe tbody tr th:only-of-type {\n",
       "        vertical-align: middle;\n",
       "    }\n",
       "\n",
       "    .dataframe tbody tr th {\n",
       "        vertical-align: top;\n",
       "    }\n",
       "\n",
       "    .dataframe thead th {\n",
       "        text-align: right;\n",
       "    }\n",
       "</style>\n",
       "<table border=\"1\" class=\"dataframe\">\n",
       "  <thead>\n",
       "    <tr style=\"text-align: right;\">\n",
       "      <th></th>\n",
       "      <th>Algorithms</th>\n",
       "      <th>F1 Mean Score</th>\n",
       "      <th>F1 std</th>\n",
       "      <th>Recall Mean Score</th>\n",
       "      <th>Recall std</th>\n",
       "    </tr>\n",
       "  </thead>\n",
       "  <tbody>\n",
       "    <tr>\n",
       "      <th>0</th>\n",
       "      <td>LogisticRegression</td>\n",
       "      <td>0.981818</td>\n",
       "      <td>0.031492</td>\n",
       "      <td>0.977273</td>\n",
       "      <td>0.039365</td>\n",
       "    </tr>\n",
       "    <tr>\n",
       "      <th>1</th>\n",
       "      <td>ExtraTree</td>\n",
       "      <td>0.865770</td>\n",
       "      <td>0.040677</td>\n",
       "      <td>0.868777</td>\n",
       "      <td>0.044076</td>\n",
       "    </tr>\n",
       "    <tr>\n",
       "      <th>2</th>\n",
       "      <td>RandomForest</td>\n",
       "      <td>0.793559</td>\n",
       "      <td>0.050709</td>\n",
       "      <td>0.797186</td>\n",
       "      <td>0.057536</td>\n",
       "    </tr>\n",
       "    <tr>\n",
       "      <th>3</th>\n",
       "      <td>LGBM</td>\n",
       "      <td>0.855882</td>\n",
       "      <td>0.056893</td>\n",
       "      <td>0.861688</td>\n",
       "      <td>0.064508</td>\n",
       "    </tr>\n",
       "    <tr>\n",
       "      <th>4</th>\n",
       "      <td>Adaboost</td>\n",
       "      <td>0.933814</td>\n",
       "      <td>0.057152</td>\n",
       "      <td>0.923864</td>\n",
       "      <td>0.066446</td>\n",
       "    </tr>\n",
       "    <tr>\n",
       "      <th>5</th>\n",
       "      <td>SVM</td>\n",
       "      <td>0.953714</td>\n",
       "      <td>0.040908</td>\n",
       "      <td>0.945455</td>\n",
       "      <td>0.043952</td>\n",
       "    </tr>\n",
       "  </tbody>\n",
       "</table>\n",
       "</div>"
      ],
      "text/plain": [
       "           Algorithms  F1 Mean Score    F1 std  Recall Mean Score  Recall std\n",
       "0  LogisticRegression       0.981818  0.031492           0.977273    0.039365\n",
       "1           ExtraTree       0.865770  0.040677           0.868777    0.044076\n",
       "2        RandomForest       0.793559  0.050709           0.797186    0.057536\n",
       "3                LGBM       0.855882  0.056893           0.861688    0.064508\n",
       "4            Adaboost       0.933814  0.057152           0.923864    0.066446\n",
       "5                 SVM       0.953714  0.040908           0.945455    0.043952"
      ]
     },
     "execution_count": 11,
     "metadata": {},
     "output_type": "execute_result"
    }
   ],
   "source": [
    "features = dt.copy()\n",
    "target = features.pop('Label')\n",
    "modelling_mulitple(features,target,recall_cols)\n"
   ]
  },
  {
   "cell_type": "code",
   "execution_count": null,
   "id": "7d147a0d",
   "metadata": {},
   "outputs": [],
   "source": []
  }
 ],
 "metadata": {
  "kernelspec": {
   "display_name": "Python 3 (ipykernel)",
   "language": "python",
   "name": "python3"
  },
  "language_info": {
   "codemirror_mode": {
    "name": "ipython",
    "version": 3
   },
   "file_extension": ".py",
   "mimetype": "text/x-python",
   "name": "python",
   "nbconvert_exporter": "python",
   "pygments_lexer": "ipython3",
   "version": "3.9.13"
  }
 },
 "nbformat": 4,
 "nbformat_minor": 5
}
